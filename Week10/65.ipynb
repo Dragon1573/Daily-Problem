{
 "cells": [
  {
   "cell_type": "markdown",
   "metadata": {},
   "source": [
    "# [Tree Serialization（二叉树的序列化）][1]\n",
    "\n",
    "[1]: https://mp.weixin.qq.com/s/g2xEaY3ZxEP8d823aJnZwg\n",
    "\n",
    "> You are given the root of a binary tree. You need to implement 2 functions:\n",
    ">\n",
    "> 1. `serialize(root)` which serializes the tree into a string representation.\n",
    "> 2. `deserialize(s)` which deserializes the string back to the original tree that it represents. \n",
    ">\n",
    "> &emsp;&emsp;For this problem, often you will be asked to design your own serialization format. However, for simplicity, let's use the pre-order traversal of the tree.\n",
    "\n",
    "> &emsp;&emsp;给定一棵二叉树的根节点，实现2个函数/方法：\n",
    ">\n",
    "> 1. `serialize`函数，用于将树序列化为字符串表示；\n",
    "> 2. `deserialize`函数，用于将字符串表示反序列化为原本的树。\n",
    ">\n",
    "> &emsp;&emsp;对于这个问题，一般情况下需要你自己设计字符串表示。然而，为了简单起见，让我们用二叉树的前序遍历作为序列化字符串。"
   ]
  },
  {
   "cell_type": "markdown",
   "metadata": {},
   "source": [
    "## Starting Point（模板代码）\n",
    "\n",
    "【注意】算法将直接编写在样板代码中。"
   ]
  },
  {
   "cell_type": "markdown",
   "metadata": {},
   "source": [
    "### Class Definition（类定义）"
   ]
  },
  {
   "cell_type": "code",
   "execution_count": 1,
   "metadata": {},
   "outputs": [],
   "source": [
    "class Node:\n",
    "    def __init__(self, value, left=None, right=None):\n",
    "        ''' The Constructor '''\n",
    "        self.value = value\n",
    "        self.left = left\n",
    "        self.right = right\n",
    "\n",
    "    def __str__(self):\n",
    "        ''' Pre-order Traversal '''\n",
    "        result = ''\n",
    "        result += str(self.value)\n",
    "        if self.left:\n",
    "            result += str(self.left)\n",
    "        if self.right:\n",
    "            result += str(self.right)\n",
    "        return result"
   ]
  },
  {
   "cell_type": "markdown",
   "metadata": {},
   "source": [
    "### Seairalization（序列化）"
   ]
  },
  {
   "cell_type": "code",
   "execution_count": 2,
   "metadata": {},
   "outputs": [],
   "source": [
    "def serialize(root: Node) -> str:\n",
    "    ''' Recursive Algorithm '''\n",
    "    if root is None:\n",
    "        return '#'\n",
    "    else:\n",
    "        return (\n",
    "            str(root.value) + ' ' +\n",
    "            serialize(root.left) + ' ' +\n",
    "            serialize(root.right)\n",
    "        )"
   ]
  },
  {
   "cell_type": "markdown",
   "metadata": {},
   "source": [
    "### Desialization（反序列化）"
   ]
  },
  {
   "cell_type": "code",
   "execution_count": 3,
   "metadata": {},
   "outputs": [],
   "source": [
    "def deserialize(data: str) -> Node:\n",
    "    # Split all elements into a list. \n",
    "    data = data.split(' ')\n",
    "\n",
    "    # Create a stack to generate a binary tree.\n",
    "    stack = []\n",
    "\n",
    "    # Define an index pointer.\n",
    "    index = 0\n",
    "\n",
    "    # Keep in loop until return operation.\n",
    "    while True:\n",
    "        # Push elements into the stack and prevent IndexError.\n",
    "        if index < len(data):\n",
    "            stack.append(data[index])\n",
    "            index += 1\n",
    "\n",
    "        # When there's only a Node element in the stack,\n",
    "        # return it.\n",
    "        if len(stack) == 1 and type(stack[0]) == Node:\n",
    "            return stack[0]\n",
    "\n",
    "        # If an element has no subtrees, convert it into Node.\n",
    "        if len(stack) >= 3 and stack[-2:] == ['#', '#']:\n",
    "            stack = stack[:len(stack) - 2]\n",
    "            stack[-1] = Node(stack[-1])\n",
    "\n",
    "        # If an element has both left and right subtrees,\n",
    "        # upgrade it to a newer tree.\n",
    "        if (len(stack) >= 3 and type(stack[-2]) == Node\n",
    "            and type(stack[-1]) == Node):\n",
    "            subtrees = stack[-2:]\n",
    "            stack = stack[:len(stack) - 2]\n",
    "            stack[-1] = Node(stack[-1], subtrees[-2], subtrees[-1])\n",
    "\n",
    "        # If an element only has a right subtree, ...\n",
    "        if (len(stack) >= 3 and stack[-2] == '#'\n",
    "            and type(stack[-1]) == Node):\n",
    "            subtrees = stack[-1]\n",
    "            stack = stack[:len(stack) - 2]\n",
    "            stack[-1] = Node(stack[-1], right=subtrees)\n",
    "\n",
    "        # If an element only has a left subtree, ...\n",
    "        if len(stack) >= 3 and type(stack[-2]) == Node and stack[-1] == '#':\n",
    "            subtrees = stack[-2]\n",
    "            stack = stack[:len(stack) - 2]\n",
    "            stack[-1] = Node(stack[-1], left=subtrees)"
   ]
  },
  {
   "cell_type": "markdown",
   "metadata": {},
   "source": [
    "### Test Cases（测试样例）\n",
    "\n",
    "```text\n",
    "#     1\n",
    "#    / \\\n",
    "#   3   4\n",
    "#  / \\   \\\n",
    "# 2   5   7\n",
    "```"
   ]
  },
  {
   "cell_type": "code",
   "execution_count": 4,
   "metadata": {},
   "outputs": [
    {
     "data": {
      "text/plain": [
       "'1 3 2 # # 5 # # 4 # 7 # #'"
      ]
     },
     "execution_count": 4,
     "metadata": {},
     "output_type": "execute_result"
    }
   ],
   "source": [
    "serialize(\n",
    "    Node(\n",
    "        1,\n",
    "        Node(\n",
    "            3,\n",
    "            Node(2),\n",
    "            Node(5)\n",
    "        ),\n",
    "        Node(\n",
    "            4,\n",
    "            None,\n",
    "            Node(7)\n",
    "        )\n",
    "    )\n",
    ")"
   ]
  },
  {
   "cell_type": "code",
   "execution_count": 5,
   "metadata": {},
   "outputs": [
    {
     "name": "stdout",
     "output_type": "stream",
     "text": [
      "132547\n"
     ]
    }
   ],
   "source": [
    "print(deserialize('1 3 2 # # 5 # # 4 # 7 # #'))"
   ]
  }
 ],
 "metadata": {
  "kernelspec": {
   "display_name": "Python 3",
   "language": "python",
   "name": "python3"
  },
  "language_info": {
   "codemirror_mode": {
    "name": "ipython",
    "version": 3
   },
   "file_extension": ".py",
   "mimetype": "text/x-python",
   "name": "python",
   "nbconvert_exporter": "python",
   "pygments_lexer": "ipython3",
   "version": "3.7.3"
  }
 },
 "nbformat": 4,
 "nbformat_minor": 4
}
